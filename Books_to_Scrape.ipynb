{
  "nbformat": 4,
  "nbformat_minor": 0,
  "metadata": {
    "colab": {
      "name": "Books to Scrape.ipynb",
      "provenance": [],
      "collapsed_sections": []
    },
    "kernelspec": {
      "name": "python3",
      "display_name": "Python 3"
    }
  },
  "cells": [
    {
      "cell_type": "code",
      "metadata": {
        "id": "n4qRfvjJ-_FE",
        "colab_type": "code",
        "colab": {
          "base_uri": "https://localhost:8080/",
          "height": 168
        },
        "outputId": "54500a5c-bfb8-4bf4-da9f-53d2dc323f4b"
      },
      "source": [
        "!pip install word2number"
      ],
      "execution_count": 157,
      "outputs": [
        {
          "output_type": "stream",
          "text": [
            "Collecting word2number\n",
            "  Downloading https://files.pythonhosted.org/packages/4a/29/a31940c848521f0725f0df6b25dca8917f13a2025b0e8fcbe5d0457e45e6/word2number-1.1.zip\n",
            "Building wheels for collected packages: word2number\n",
            "  Building wheel for word2number (setup.py) ... \u001b[?25l\u001b[?25hdone\n",
            "  Created wheel for word2number: filename=word2number-1.1-cp36-none-any.whl size=5587 sha256=ac7f63e55aa8ebb80032a2fc72055cfe242a7942e1517c970146568bce8427d5\n",
            "  Stored in directory: /root/.cache/pip/wheels/46/2f/53/5f5c1d275492f2fce1cdab9a9bb12d49286dead829a4078e0e\n",
            "Successfully built word2number\n",
            "Installing collected packages: word2number\n",
            "Successfully installed word2number-1.1\n"
          ],
          "name": "stdout"
        }
      ]
    },
    {
      "cell_type": "code",
      "metadata": {
        "id": "dFFkyDcIzGHo",
        "colab_type": "code",
        "colab": {}
      },
      "source": [
        "import pandas as pd \n",
        "import requests\n",
        "import regex as rgx\n",
        "from bs4 import BeautifulSoup\n",
        "from word2number import w2n\n",
        "\n",
        "# Set our pandas dataframe width wider\n",
        "pd.set_option('display.max_colwidth', 400)"
      ],
      "execution_count": 208,
      "outputs": []
    },
    {
      "cell_type": "code",
      "metadata": {
        "id": "ehWUDS2kzPq_",
        "colab_type": "code",
        "colab": {}
      },
      "source": [
        "def load_data(pages=5):\n",
        "  global website\n",
        "  url = 'http://books.toscrape.com/catalogue/page-'\n",
        "  data = []\n",
        "  website = []\n",
        "  # Setup for pagination (only 1 page at a time)\n",
        "  for x in range(pages):\n",
        "    data.append(requests.get(url + str(x) + '.html'))\n",
        "    website.append(BeautifulSoup(data[x].content))\n",
        "  return \"Data loaded and ready to go!\"\n",
        "\n",
        "def extract_titles():\n",
        "  titles = []\n",
        "  for i in range(len(website)):\n",
        "    for h3 in website[i].find_all('h3'):\n",
        "      titles.append(h3.a['title'])\n",
        "  return titles\n",
        "\n",
        "def extract_prices():\n",
        "  prices = []\n",
        "  for i in range(len(website)):\n",
        "    for p in website[i].find_all('p',{'class':'price_color'}):\n",
        "      prices.append(p.text)\n",
        "  return prices\n",
        "\n",
        "def extract_instock():\n",
        "  instock = []\n",
        "  for i in range(len(website)):\n",
        "    for p in website[i].find_all('p',{'class':'instock availability'}):\n",
        "      p = p.text.split(' ')[12:14]\n",
        "      p[1] = p[1].replace('\\n','')\n",
        "      p = p[0] + p[1]\n",
        "      instock.append(p)\n",
        "  return mutate_instock(instock)\n",
        "\n",
        "def mutate_instock(items):\n",
        "  instock = []\n",
        "  for ioos in items:\n",
        "    if 'Instock' in ioos:\n",
        "      instock.append(True)\n",
        "    else:\n",
        "      instock.append(False)\n",
        "  return instock\n",
        "\n",
        "def extract_ratings():\n",
        "  ratings = []\n",
        "  pattern = rgx.regex.compile(\"star-rating.*\\w\")\n",
        "  for i in range(len(website)):\n",
        "    for p in website[i].find_all('p',{'class':'star-rating'}):\n",
        "      ratings.append(w2n.word_to_num(rgx.regex.search(pattern,str(p)).group(0).split(' ')[1]))\n",
        "  return ratings\n",
        "\n",
        "def extract_covers():\n",
        "  base_url = 'http://books.toscrape.com'\n",
        "  cover_urls = []\n",
        "  for i in range(len(website)):\n",
        "    for img in website[i].find_all('img',{'class':'thumbnail'}):\n",
        "      cover_urls.append(base_url + str(img['src'].replace('..','')))\n",
        "  return cover_urls\n",
        "\n",
        "def get_dataframe(pages=5):\n",
        "  load_data(pages)\n",
        "  titles = extract_titles()\n",
        "  prices = extract_prices()\n",
        "  instock = extract_instock()\n",
        "  ratings = extract_ratings()\n",
        "  covers = extract_covers()\n",
        "  return pd.DataFrame({'title':titles,'price':prices,'instock':instock,'rating':ratings,'coverUrl':covers})\n"
      ],
      "execution_count": 221,
      "outputs": []
    },
    {
      "cell_type": "code",
      "metadata": {
        "id": "3DuJ1OUhD4iM",
        "colab_type": "code",
        "colab": {
          "base_uri": "https://localhost:8080/",
          "height": 343
        },
        "outputId": "1b3662e9-b178-4644-a651-e07595b5a6fa"
      },
      "source": [
        "get_dataframe().head(10)"
      ],
      "execution_count": 222,
      "outputs": [
        {
          "output_type": "execute_result",
          "data": {
            "text/html": [
              "<div>\n",
              "<style scoped>\n",
              "    .dataframe tbody tr th:only-of-type {\n",
              "        vertical-align: middle;\n",
              "    }\n",
              "\n",
              "    .dataframe tbody tr th {\n",
              "        vertical-align: top;\n",
              "    }\n",
              "\n",
              "    .dataframe thead th {\n",
              "        text-align: right;\n",
              "    }\n",
              "</style>\n",
              "<table border=\"1\" class=\"dataframe\">\n",
              "  <thead>\n",
              "    <tr style=\"text-align: right;\">\n",
              "      <th></th>\n",
              "      <th>title</th>\n",
              "      <th>price</th>\n",
              "      <th>instock</th>\n",
              "      <th>rating</th>\n",
              "      <th>coverUrl</th>\n",
              "    </tr>\n",
              "  </thead>\n",
              "  <tbody>\n",
              "    <tr>\n",
              "      <th>0</th>\n",
              "      <td>A Light in the Attic</td>\n",
              "      <td>£51.77</td>\n",
              "      <td>True</td>\n",
              "      <td>3</td>\n",
              "      <td>http://books.toscrape.com/media/cache/2c/da/2cdad67c44b002e7ead0cc35693c0e8b.jpg</td>\n",
              "    </tr>\n",
              "    <tr>\n",
              "      <th>1</th>\n",
              "      <td>Tipping the Velvet</td>\n",
              "      <td>£53.74</td>\n",
              "      <td>True</td>\n",
              "      <td>1</td>\n",
              "      <td>http://books.toscrape.com/media/cache/26/0c/260c6ae16bce31c8f8c95daddd9f4a1c.jpg</td>\n",
              "    </tr>\n",
              "    <tr>\n",
              "      <th>2</th>\n",
              "      <td>Soumission</td>\n",
              "      <td>£50.10</td>\n",
              "      <td>True</td>\n",
              "      <td>1</td>\n",
              "      <td>http://books.toscrape.com/media/cache/3e/ef/3eef99c9d9adef34639f510662022830.jpg</td>\n",
              "    </tr>\n",
              "    <tr>\n",
              "      <th>3</th>\n",
              "      <td>Sharp Objects</td>\n",
              "      <td>£47.82</td>\n",
              "      <td>True</td>\n",
              "      <td>4</td>\n",
              "      <td>http://books.toscrape.com/media/cache/32/51/3251cf3a3412f53f339e42cac2134093.jpg</td>\n",
              "    </tr>\n",
              "    <tr>\n",
              "      <th>4</th>\n",
              "      <td>Sapiens: A Brief History of Humankind</td>\n",
              "      <td>£54.23</td>\n",
              "      <td>True</td>\n",
              "      <td>5</td>\n",
              "      <td>http://books.toscrape.com/media/cache/be/a5/bea5697f2534a2f86a3ef27b5a8c12a6.jpg</td>\n",
              "    </tr>\n",
              "    <tr>\n",
              "      <th>5</th>\n",
              "      <td>The Requiem Red</td>\n",
              "      <td>£22.65</td>\n",
              "      <td>True</td>\n",
              "      <td>1</td>\n",
              "      <td>http://books.toscrape.com/media/cache/68/33/68339b4c9bc034267e1da611ab3b34f8.jpg</td>\n",
              "    </tr>\n",
              "    <tr>\n",
              "      <th>6</th>\n",
              "      <td>The Dirty Little Secrets of Getting Your Dream Job</td>\n",
              "      <td>£33.34</td>\n",
              "      <td>True</td>\n",
              "      <td>4</td>\n",
              "      <td>http://books.toscrape.com/media/cache/92/27/92274a95b7c251fea59a2b8a78275ab4.jpg</td>\n",
              "    </tr>\n",
              "    <tr>\n",
              "      <th>7</th>\n",
              "      <td>The Coming Woman: A Novel Based on the Life of the Infamous Feminist, Victoria Woodhull</td>\n",
              "      <td>£17.93</td>\n",
              "      <td>True</td>\n",
              "      <td>3</td>\n",
              "      <td>http://books.toscrape.com/media/cache/3d/54/3d54940e57e662c4dd1f3ff00c78cc64.jpg</td>\n",
              "    </tr>\n",
              "    <tr>\n",
              "      <th>8</th>\n",
              "      <td>The Boys in the Boat: Nine Americans and Their Epic Quest for Gold at the 1936 Berlin Olympics</td>\n",
              "      <td>£22.60</td>\n",
              "      <td>True</td>\n",
              "      <td>4</td>\n",
              "      <td>http://books.toscrape.com/media/cache/66/88/66883b91f6804b2323c8369331cb7dd1.jpg</td>\n",
              "    </tr>\n",
              "    <tr>\n",
              "      <th>9</th>\n",
              "      <td>The Black Maria</td>\n",
              "      <td>£52.15</td>\n",
              "      <td>True</td>\n",
              "      <td>1</td>\n",
              "      <td>http://books.toscrape.com/media/cache/58/46/5846057e28022268153beff6d352b06c.jpg</td>\n",
              "    </tr>\n",
              "  </tbody>\n",
              "</table>\n",
              "</div>"
            ],
            "text/plain": [
              "                                                                                            title  ...                                                                          coverUrl\n",
              "0                                                                            A Light in the Attic  ...  http://books.toscrape.com/media/cache/2c/da/2cdad67c44b002e7ead0cc35693c0e8b.jpg\n",
              "1                                                                              Tipping the Velvet  ...  http://books.toscrape.com/media/cache/26/0c/260c6ae16bce31c8f8c95daddd9f4a1c.jpg\n",
              "2                                                                                      Soumission  ...  http://books.toscrape.com/media/cache/3e/ef/3eef99c9d9adef34639f510662022830.jpg\n",
              "3                                                                                   Sharp Objects  ...  http://books.toscrape.com/media/cache/32/51/3251cf3a3412f53f339e42cac2134093.jpg\n",
              "4                                                           Sapiens: A Brief History of Humankind  ...  http://books.toscrape.com/media/cache/be/a5/bea5697f2534a2f86a3ef27b5a8c12a6.jpg\n",
              "5                                                                                 The Requiem Red  ...  http://books.toscrape.com/media/cache/68/33/68339b4c9bc034267e1da611ab3b34f8.jpg\n",
              "6                                              The Dirty Little Secrets of Getting Your Dream Job  ...  http://books.toscrape.com/media/cache/92/27/92274a95b7c251fea59a2b8a78275ab4.jpg\n",
              "7         The Coming Woman: A Novel Based on the Life of the Infamous Feminist, Victoria Woodhull  ...  http://books.toscrape.com/media/cache/3d/54/3d54940e57e662c4dd1f3ff00c78cc64.jpg\n",
              "8  The Boys in the Boat: Nine Americans and Their Epic Quest for Gold at the 1936 Berlin Olympics  ...  http://books.toscrape.com/media/cache/66/88/66883b91f6804b2323c8369331cb7dd1.jpg\n",
              "9                                                                                 The Black Maria  ...  http://books.toscrape.com/media/cache/58/46/5846057e28022268153beff6d352b06c.jpg\n",
              "\n",
              "[10 rows x 5 columns]"
            ]
          },
          "metadata": {
            "tags": []
          },
          "execution_count": 222
        }
      ]
    },
    {
      "cell_type": "code",
      "metadata": {
        "id": "OVKGd5s8Gj-w",
        "colab_type": "code",
        "colab": {}
      },
      "source": [
        ""
      ],
      "execution_count": null,
      "outputs": []
    }
  ]
}