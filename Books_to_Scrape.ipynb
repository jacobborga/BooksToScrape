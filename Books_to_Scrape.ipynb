{
  "nbformat": 4,
  "nbformat_minor": 0,
  "metadata": {
    "colab": {
      "name": "Books to Scrape.ipynb",
      "provenance": [],
      "collapsed_sections": []
    },
    "kernelspec": {
      "name": "python3",
      "display_name": "Python 3"
    }
  },
  "cells": [
    {
      "cell_type": "code",
      "metadata": {
        "id": "n4qRfvjJ-_FE",
        "colab_type": "code",
        "colab": {
          "base_uri": "https://localhost:8080/",
          "height": 168
        },
        "outputId": "54500a5c-bfb8-4bf4-da9f-53d2dc323f4b"
      },
      "source": [
        "!pip install word2number"
      ],
      "execution_count": 157,
      "outputs": [
        {
          "output_type": "stream",
          "text": [
            "Collecting word2number\n",
            "  Downloading https://files.pythonhosted.org/packages/4a/29/a31940c848521f0725f0df6b25dca8917f13a2025b0e8fcbe5d0457e45e6/word2number-1.1.zip\n",
            "Building wheels for collected packages: word2number\n",
            "  Building wheel for word2number (setup.py) ... \u001b[?25l\u001b[?25hdone\n",
            "  Created wheel for word2number: filename=word2number-1.1-cp36-none-any.whl size=5587 sha256=ac7f63e55aa8ebb80032a2fc72055cfe242a7942e1517c970146568bce8427d5\n",
            "  Stored in directory: /root/.cache/pip/wheels/46/2f/53/5f5c1d275492f2fce1cdab9a9bb12d49286dead829a4078e0e\n",
            "Successfully built word2number\n",
            "Installing collected packages: word2number\n",
            "Successfully installed word2number-1.1\n"
          ],
          "name": "stdout"
        }
      ]
    },
    {
      "cell_type": "code",
      "metadata": {
        "id": "dFFkyDcIzGHo",
        "colab_type": "code",
        "colab": {}
      },
      "source": [
        "import pandas as pd \n",
        "import requests\n",
        "import regex as rgx\n",
        "from bs4 import BeautifulSoup\n",
        "from word2number import w2n\n",
        "\n",
        "# Set our pandas dataframe width wider\n",
        "pd.set_option('display.max_colwidth', 400)"
      ],
      "execution_count": 208,
      "outputs": []
    },
    {
      "cell_type": "code",
      "metadata": {
        "id": "ehWUDS2kzPq_",
        "colab_type": "code",
        "colab": {}
      },
      "source": [
        "def load_data(pages=5):\n",
        "  global website\n",
        "  url = 'http://books.toscrape.com/catalogue/page-'\n",
        "  data = []\n",
        "  website = []\n",
        "  # Setup for pagination (only 1 page at a time)\n",
        "  for x in range(pages):\n",
        "    data.append(requests.get(url + str(x) + '.html'))\n",
        "    website.append(BeautifulSoup(data[x].content))\n",
        "  return \"Data loaded and ready to go!\"\n",
        "\n",
        "def extract_titles():\n",
        "  titles = []\n",
        "  for i in range(len(website)):\n",
        "    for h3 in website[i].find_all('h3'):\n",
        "      titles.append(h3.a['title'])\n",
        "  return titles\n",
        "\n",
        "def extract_prices():\n",
        "  prices = []\n",
        "  for i in range(len(website)):\n",
        "    for p in website[i].find_all('p',{'class':'price_color'}):\n",
        "      prices.append(p.text)\n",
        "  return prices\n",
        "\n",
        "def extract_instock():\n",
        "  instock = []\n",
        "  for i in range(len(website)):\n",
        "    for p in website[i].find_all('p',{'class':'instock availability'}):\n",
        "      p = p.text.split(' ')[12:14]\n",
        "      p[1] = p[1].replace('\\n','')\n",
        "      p = p[0] + p[1]\n",
        "      instock.append(p)\n",
        "  return mutate_instock(instock)\n",
        "\n",
        "def mutate_instock(items):\n",
        "  instock = []\n",
        "  for ioos in items:\n",
        "    if 'Instock' in ioos:\n",
        "      instock.append(True)\n",
        "    else:\n",
        "      instock.append(False)\n",
        "  return instock\n",
        "\n",
        "def extract_ratings():\n",
        "  ratings = []\n",
        "  pattern = rgx.regex.compile(\"star-rating.*\\w\")\n",
        "  for i in range(len(website)):\n",
        "    for p in website[i].find_all('p',{'class':'star-rating'}):\n",
        "      ratings.append(w2n.word_to_num(rgx.regex.search(pattern,str(p)).group(0).split(' ')[1]))\n",
        "  return ratings\n",
        "\n",
        "def extract_covers():\n",
        "  base_url = 'http://books.toscrape.com'\n",
        "  cover_urls = []\n",
        "  for i in range(len(website)):\n",
        "    for img in website[i].find_all('img',{'class':'thumbnail'}):\n",
        "      cover_urls.append(base_url + str(img['src'].replace('..','')))\n",
        "  return cover_urls\n",
        "\n",
        "def get_dataframe(pages=5):\n",
        "  load_data(pages)\n",
        "  titles = extract_titles()\n",
        "  prices = extract_prices()\n",
        "  instock = extract_instock()\n",
        "  ratings = extract_ratings()\n",
        "  covers = extract_covers()\n",
        "  return pd.DataFrame({'title':titles,'price':prices,'instock':instock,'rating':ratings,'coverUrl':covers}).sort_values('rating', ascending=False).reset_index().drop('index',axis=1)\n"
      ],
      "execution_count": 218,
      "outputs": []
    },
    {
      "cell_type": "code",
      "metadata": {
        "id": "3DuJ1OUhD4iM",
        "colab_type": "code",
        "colab": {
          "base_uri": "https://localhost:8080/",
          "height": 343
        },
        "outputId": "f4d522d8-0bfa-4f1c-cabc-bcddf1960b85"
      },
      "source": [
        "get_dataframe().head(10)"
      ],
      "execution_count": 220,
      "outputs": [
        {
          "output_type": "execute_result",
          "data": {
            "text/html": [
              "<div>\n",
              "<style scoped>\n",
              "    .dataframe tbody tr th:only-of-type {\n",
              "        vertical-align: middle;\n",
              "    }\n",
              "\n",
              "    .dataframe tbody tr th {\n",
              "        vertical-align: top;\n",
              "    }\n",
              "\n",
              "    .dataframe thead th {\n",
              "        text-align: right;\n",
              "    }\n",
              "</style>\n",
              "<table border=\"1\" class=\"dataframe\">\n",
              "  <thead>\n",
              "    <tr style=\"text-align: right;\">\n",
              "      <th></th>\n",
              "      <th>title</th>\n",
              "      <th>price</th>\n",
              "      <th>instock</th>\n",
              "      <th>rating</th>\n",
              "      <th>coverUrl</th>\n",
              "    </tr>\n",
              "  </thead>\n",
              "  <tbody>\n",
              "    <tr>\n",
              "      <th>0</th>\n",
              "      <td>#HigherSelfie: Wake Up Your Life. Free Your Soul. Find Your Tribe.</td>\n",
              "      <td>£23.11</td>\n",
              "      <td>True</td>\n",
              "      <td>5</td>\n",
              "      <td>http://books.toscrape.com/media/cache/9c/46/9c463c7631c82401160fd3b554b8f0e1.jpg</td>\n",
              "    </tr>\n",
              "    <tr>\n",
              "      <th>1</th>\n",
              "      <td>Set Me Free</td>\n",
              "      <td>£17.46</td>\n",
              "      <td>True</td>\n",
              "      <td>5</td>\n",
              "      <td>http://books.toscrape.com/media/cache/5b/88/5b88c52633f53cacf162c15f4f823153.jpg</td>\n",
              "    </tr>\n",
              "    <tr>\n",
              "      <th>2</th>\n",
              "      <td>The Four Agreements: A Practical Guide to Personal Freedom</td>\n",
              "      <td>£17.66</td>\n",
              "      <td>True</td>\n",
              "      <td>5</td>\n",
              "      <td>http://books.toscrape.com/media/cache/0f/7e/0f7ee69495c0df1d35723f012624a9f8.jpg</td>\n",
              "    </tr>\n",
              "    <tr>\n",
              "      <th>3</th>\n",
              "      <td>Worlds Elsewhere: Journeys Around Shakespeare’s Globe</td>\n",
              "      <td>£40.30</td>\n",
              "      <td>True</td>\n",
              "      <td>5</td>\n",
              "      <td>http://books.toscrape.com/media/cache/2e/98/2e98c332bf8563b584784971541c4445.jpg</td>\n",
              "    </tr>\n",
              "    <tr>\n",
              "      <th>4</th>\n",
              "      <td>Thirst</td>\n",
              "      <td>£17.27</td>\n",
              "      <td>True</td>\n",
              "      <td>5</td>\n",
              "      <td>http://books.toscrape.com/media/cache/c4/0a/c40a64f59e7487b1a80a049f6ceb2ba5.jpg</td>\n",
              "    </tr>\n",
              "    <tr>\n",
              "      <th>5</th>\n",
              "      <td>Black Dust</td>\n",
              "      <td>£34.53</td>\n",
              "      <td>True</td>\n",
              "      <td>5</td>\n",
              "      <td>http://books.toscrape.com/media/cache/44/cc/44ccc99c8f82c33d4f9d2afa4ef25787.jpg</td>\n",
              "    </tr>\n",
              "    <tr>\n",
              "      <th>6</th>\n",
              "      <td>Chase Me (Paris Nights #2)</td>\n",
              "      <td>£25.27</td>\n",
              "      <td>True</td>\n",
              "      <td>5</td>\n",
              "      <td>http://books.toscrape.com/media/cache/9c/2e/9c2e0eb8866b8e3f3b768994fd3d1c1a.jpg</td>\n",
              "    </tr>\n",
              "    <tr>\n",
              "      <th>7</th>\n",
              "      <td>Sophie's World</td>\n",
              "      <td>£15.94</td>\n",
              "      <td>True</td>\n",
              "      <td>5</td>\n",
              "      <td>http://books.toscrape.com/media/cache/65/71/6571919836ec51ed54f0050c31d8a0cd.jpg</td>\n",
              "    </tr>\n",
              "    <tr>\n",
              "      <th>8</th>\n",
              "      <td>Private Paris (Private #10)</td>\n",
              "      <td>£47.61</td>\n",
              "      <td>True</td>\n",
              "      <td>5</td>\n",
              "      <td>http://books.toscrape.com/media/cache/9d/05/9d0533bae1578846d728a82913b95c26.jpg</td>\n",
              "    </tr>\n",
              "    <tr>\n",
              "      <th>9</th>\n",
              "      <td>The Elephant Tree</td>\n",
              "      <td>£23.82</td>\n",
              "      <td>True</td>\n",
              "      <td>5</td>\n",
              "      <td>http://books.toscrape.com/media/cache/5d/7e/5d7ecde8e81513eba8a64c9fe000744b.jpg</td>\n",
              "    </tr>\n",
              "  </tbody>\n",
              "</table>\n",
              "</div>"
            ],
            "text/plain": [
              "                                                                title  ...                                                                          coverUrl\n",
              "0  #HigherSelfie: Wake Up Your Life. Free Your Soul. Find Your Tribe.  ...  http://books.toscrape.com/media/cache/9c/46/9c463c7631c82401160fd3b554b8f0e1.jpg\n",
              "1                                                         Set Me Free  ...  http://books.toscrape.com/media/cache/5b/88/5b88c52633f53cacf162c15f4f823153.jpg\n",
              "2          The Four Agreements: A Practical Guide to Personal Freedom  ...  http://books.toscrape.com/media/cache/0f/7e/0f7ee69495c0df1d35723f012624a9f8.jpg\n",
              "3               Worlds Elsewhere: Journeys Around Shakespeare’s Globe  ...  http://books.toscrape.com/media/cache/2e/98/2e98c332bf8563b584784971541c4445.jpg\n",
              "4                                                              Thirst  ...  http://books.toscrape.com/media/cache/c4/0a/c40a64f59e7487b1a80a049f6ceb2ba5.jpg\n",
              "5                                                          Black Dust  ...  http://books.toscrape.com/media/cache/44/cc/44ccc99c8f82c33d4f9d2afa4ef25787.jpg\n",
              "6                                          Chase Me (Paris Nights #2)  ...  http://books.toscrape.com/media/cache/9c/2e/9c2e0eb8866b8e3f3b768994fd3d1c1a.jpg\n",
              "7                                                      Sophie's World  ...  http://books.toscrape.com/media/cache/65/71/6571919836ec51ed54f0050c31d8a0cd.jpg\n",
              "8                                         Private Paris (Private #10)  ...  http://books.toscrape.com/media/cache/9d/05/9d0533bae1578846d728a82913b95c26.jpg\n",
              "9                                                   The Elephant Tree  ...  http://books.toscrape.com/media/cache/5d/7e/5d7ecde8e81513eba8a64c9fe000744b.jpg\n",
              "\n",
              "[10 rows x 5 columns]"
            ]
          },
          "metadata": {
            "tags": []
          },
          "execution_count": 220
        }
      ]
    },
    {
      "cell_type": "code",
      "metadata": {
        "id": "AtKJvaT1EBb6",
        "colab_type": "code",
        "colab": {}
      },
      "source": [
        ""
      ],
      "execution_count": null,
      "outputs": []
    }
  ]
}